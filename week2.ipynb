{
 "cells": [
  {
   "cell_type": "code",
   "execution_count": 19,
   "metadata": {},
   "outputs": [
    {
     "name": "stderr",
     "output_type": "stream",
     "text": [
      "python: can't open file 'f:\\\\F1D022065\\\\py\\\\tugas1.py': [Errno 2] No such file or directory\n",
      "python: can't open file 'f:\\\\F1D022065\\\\py\\\\tugas1.py': [Errno 2] No such file or directory\n",
      "python: can't open file 'f:\\\\F1D022065\\\\py\\\\tugas1.py': [Errno 2] No such file or directory\n",
      "python: can't open file 'f:\\\\F1D022065\\\\py\\\\tugas1.py': [Errno 2] No such file or directory\n"
     ]
    }
   ],
   "source": [
    "!mpiexec -n 4 python py/tugas1.py"
   ]
  }
 ],
 "metadata": {
  "kernelspec": {
   "display_name": "Python 3",
   "language": "python",
   "name": "python3"
  },
  "language_info": {
   "codemirror_mode": {
    "name": "ipython",
    "version": 3
   },
   "file_extension": ".py",
   "mimetype": "text/x-python",
   "name": "python",
   "nbconvert_exporter": "python",
   "pygments_lexer": "ipython3",
   "version": "3.12.2"
  }
 },
 "nbformat": 4,
 "nbformat_minor": 2
}
